{
 "cells": [
  {
   "cell_type": "markdown",
   "metadata": {},
   "source": [
    "### <center><font color='blue'>Dev Bharatbhai Patel (8938546)</font></center>\n",
    "### <center><font color='blue'>Lab-8 Pytorch</font></center>"
   ]
  },
  {
   "cell_type": "markdown",
   "metadata": {},
   "source": [
    "* Calculate the dot product between two vectors each of length 3"
   ]
  },
  {
   "cell_type": "code",
   "execution_count": 1,
   "metadata": {},
   "outputs": [],
   "source": [
    "import torch"
   ]
  },
  {
   "cell_type": "code",
   "execution_count": 13,
   "metadata": {},
   "outputs": [
    {
     "name": "stdout",
     "output_type": "stream",
     "text": [
      "The Dot Product of A and B is: tensor(101)\n"
     ]
    }
   ],
   "source": [
    "A = torch.tensor([-2,10,3])\n",
    "B = torch.tensor([27,14,5])\n",
    "\n",
    "# Calculating the dot product by using torch.dot()\n",
    "dot_product = torch.dot(A,B)\n",
    "\n",
    "print(\"The Dot Product of A and B is:\",dot_product)"
   ]
  },
  {
   "cell_type": "markdown",
   "metadata": {},
   "source": [
    "* Calculate the matrix multiplication of two 2-dimensional matrices, each with a size of (2,2)"
   ]
  },
  {
   "cell_type": "code",
   "execution_count": 14,
   "metadata": {},
   "outputs": [
    {
     "name": "stdout",
     "output_type": "stream",
     "text": [
      "The Matrix Multiplication of A and B is: tensor([[-103, -156],\n",
      "        [ 663,  348]])\n"
     ]
    }
   ],
   "source": [
    "X = torch.tensor([[-5,7],[21,9]])\n",
    "Y = torch.tensor([[29,20],[6,-8]])\n",
    "\n",
    "# Calculating the matrix multiplication by using torch.mm()\n",
    "matrix_multiplication = torch.mm(X,Y)\n",
    "\n",
    "print(\"The Matrix Multiplication of A and B is:\", matrix_multiplication)"
   ]
  }
 ],
 "metadata": {
  "kernelspec": {
   "display_name": "pytorch_cpu",
   "language": "python",
   "name": "python3"
  },
  "language_info": {
   "codemirror_mode": {
    "name": "ipython",
    "version": 3
   },
   "file_extension": ".py",
   "mimetype": "text/x-python",
   "name": "python",
   "nbconvert_exporter": "python",
   "pygments_lexer": "ipython3",
   "version": "3.11.4"
  }
 },
 "nbformat": 4,
 "nbformat_minor": 2
}
