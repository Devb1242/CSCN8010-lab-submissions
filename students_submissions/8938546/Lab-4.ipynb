{
 "cells": [
  {
   "cell_type": "markdown",
   "metadata": {},
   "source": [
    "### <center> Dev Bharatbhai Patel(8938546) </center>\n",
    "### <center>Lab-4</center>"
   ]
  },
  {
   "cell_type": "code",
   "execution_count": 72,
   "metadata": {},
   "outputs": [],
   "source": [
    "# Importing necessary packages\n",
    "\n",
    "import numpy as np\n",
    "import pandas as pd\n",
    "from sklearn import datasets\n",
    "from sklearn.model_selection import train_test_split\n",
    "from sklearn.linear_model import LinearRegression\n",
    "from sklearn.preprocessing import PolynomialFeatures\n",
    "from sklearn.metrics import r2_score, mean_absolute_error, mean_absolute_percentage_error"
   ]
  },
  {
   "cell_type": "markdown",
   "metadata": {},
   "source": [
    "* 1. Get the data, and run a train-validation-test split. Description of each column can be found in sklearn documentation. Look at the documentation for the load_diabetes method to know what are as_frame and scaled arguments are for."
   ]
  },
  {
   "cell_type": "code",
   "execution_count": 75,
   "metadata": {},
   "outputs": [],
   "source": [
    "# Loadin the diabetes datasets\n",
    "diabetes_X, diabetes_y = datasets.load_diabetes(as_frame=True, scaled=True, return_X_y=True)\n",
    "\n",
    "# Splitting the data into training, testing and Validation sets\n",
    "X_train, X_test, Y_train, Y_test = train_test_split(diabetes_X, diabetes_y, test_size=0.2, random_state=2)\n",
    "X_train, x_val, Y_train, y_val = train_test_split(X_train, Y_train, test_size=0.2, random_state=2)"
   ]
  },
  {
   "cell_type": "markdown",
   "metadata": {},
   "source": [
    "* 2. Run a multivariate linear regression on all variables"
   ]
  },
  {
   "cell_type": "code",
   "execution_count": 76,
   "metadata": {},
   "outputs": [
    {
     "data": {
      "text/html": [
       "<style>#sk-container-id-9 {color: black;background-color: white;}#sk-container-id-9 pre{padding: 0;}#sk-container-id-9 div.sk-toggleable {background-color: white;}#sk-container-id-9 label.sk-toggleable__label {cursor: pointer;display: block;width: 100%;margin-bottom: 0;padding: 0.3em;box-sizing: border-box;text-align: center;}#sk-container-id-9 label.sk-toggleable__label-arrow:before {content: \"▸\";float: left;margin-right: 0.25em;color: #696969;}#sk-container-id-9 label.sk-toggleable__label-arrow:hover:before {color: black;}#sk-container-id-9 div.sk-estimator:hover label.sk-toggleable__label-arrow:before {color: black;}#sk-container-id-9 div.sk-toggleable__content {max-height: 0;max-width: 0;overflow: hidden;text-align: left;background-color: #f0f8ff;}#sk-container-id-9 div.sk-toggleable__content pre {margin: 0.2em;color: black;border-radius: 0.25em;background-color: #f0f8ff;}#sk-container-id-9 input.sk-toggleable__control:checked~div.sk-toggleable__content {max-height: 200px;max-width: 100%;overflow: auto;}#sk-container-id-9 input.sk-toggleable__control:checked~label.sk-toggleable__label-arrow:before {content: \"▾\";}#sk-container-id-9 div.sk-estimator input.sk-toggleable__control:checked~label.sk-toggleable__label {background-color: #d4ebff;}#sk-container-id-9 div.sk-label input.sk-toggleable__control:checked~label.sk-toggleable__label {background-color: #d4ebff;}#sk-container-id-9 input.sk-hidden--visually {border: 0;clip: rect(1px 1px 1px 1px);clip: rect(1px, 1px, 1px, 1px);height: 1px;margin: -1px;overflow: hidden;padding: 0;position: absolute;width: 1px;}#sk-container-id-9 div.sk-estimator {font-family: monospace;background-color: #f0f8ff;border: 1px dotted black;border-radius: 0.25em;box-sizing: border-box;margin-bottom: 0.5em;}#sk-container-id-9 div.sk-estimator:hover {background-color: #d4ebff;}#sk-container-id-9 div.sk-parallel-item::after {content: \"\";width: 100%;border-bottom: 1px solid gray;flex-grow: 1;}#sk-container-id-9 div.sk-label:hover label.sk-toggleable__label {background-color: #d4ebff;}#sk-container-id-9 div.sk-serial::before {content: \"\";position: absolute;border-left: 1px solid gray;box-sizing: border-box;top: 0;bottom: 0;left: 50%;z-index: 0;}#sk-container-id-9 div.sk-serial {display: flex;flex-direction: column;align-items: center;background-color: white;padding-right: 0.2em;padding-left: 0.2em;position: relative;}#sk-container-id-9 div.sk-item {position: relative;z-index: 1;}#sk-container-id-9 div.sk-parallel {display: flex;align-items: stretch;justify-content: center;background-color: white;position: relative;}#sk-container-id-9 div.sk-item::before, #sk-container-id-9 div.sk-parallel-item::before {content: \"\";position: absolute;border-left: 1px solid gray;box-sizing: border-box;top: 0;bottom: 0;left: 50%;z-index: -1;}#sk-container-id-9 div.sk-parallel-item {display: flex;flex-direction: column;z-index: 1;position: relative;background-color: white;}#sk-container-id-9 div.sk-parallel-item:first-child::after {align-self: flex-end;width: 50%;}#sk-container-id-9 div.sk-parallel-item:last-child::after {align-self: flex-start;width: 50%;}#sk-container-id-9 div.sk-parallel-item:only-child::after {width: 0;}#sk-container-id-9 div.sk-dashed-wrapped {border: 1px dashed gray;margin: 0 0.4em 0.5em 0.4em;box-sizing: border-box;padding-bottom: 0.4em;background-color: white;}#sk-container-id-9 div.sk-label label {font-family: monospace;font-weight: bold;display: inline-block;line-height: 1.2em;}#sk-container-id-9 div.sk-label-container {text-align: center;}#sk-container-id-9 div.sk-container {/* jupyter's `normalize.less` sets `[hidden] { display: none; }` but bootstrap.min.css set `[hidden] { display: none !important; }` so we also need the `!important` here to be able to override the default hidden behavior on the sphinx rendered scikit-learn.org. See: https://github.com/scikit-learn/scikit-learn/issues/21755 */display: inline-block !important;position: relative;}#sk-container-id-9 div.sk-text-repr-fallback {display: none;}</style><div id=\"sk-container-id-9\" class=\"sk-top-container\"><div class=\"sk-text-repr-fallback\"><pre>LinearRegression()</pre><b>In a Jupyter environment, please rerun this cell to show the HTML representation or trust the notebook. <br />On GitHub, the HTML representation is unable to render, please try loading this page with nbviewer.org.</b></div><div class=\"sk-container\" hidden><div class=\"sk-item\"><div class=\"sk-estimator sk-toggleable\"><input class=\"sk-toggleable__control sk-hidden--visually\" id=\"sk-estimator-id-9\" type=\"checkbox\" checked><label for=\"sk-estimator-id-9\" class=\"sk-toggleable__label sk-toggleable__label-arrow\">LinearRegression</label><div class=\"sk-toggleable__content\"><pre>LinearRegression()</pre></div></div></div></div></div>"
      ],
      "text/plain": [
       "LinearRegression()"
      ]
     },
     "execution_count": 76,
     "metadata": {},
     "output_type": "execute_result"
    }
   ],
   "source": [
    "# Multivariate Linear Regression\n",
    "\n",
    "Linear_Regression = LinearRegression()\n",
    "Linear_Regression.fit(X_train, Y_train)"
   ]
  },
  {
   "cell_type": "code",
   "execution_count": 77,
   "metadata": {},
   "outputs": [
    {
     "name": "stdout",
     "output_type": "stream",
     "text": [
      "Coefficients:  [  -73.75657995  -266.40794388   517.94194727   370.66497105\n",
      " -1251.98617314   891.75390971   323.78686007   112.25743252\n",
      "  1054.48855519    30.62504975]\n",
      "Intercept:  150.07377278777557\n"
     ]
    }
   ],
   "source": [
    "# Predicting the target values\n",
    "predict_1 = Linear_Regression.predict(X_test)\n",
    "\n",
    "# Printing thr Coefficients and Intercept\n",
    "print('Coefficients: ', Linear_Regression.coef_)\n",
    "print('Intercept: ', Linear_Regression.intercept_)"
   ]
  },
  {
   "cell_type": "markdown",
   "metadata": {},
   "source": [
    "* 3. Run a polynomial regression of the 2nd degree on the BMI feature alone"
   ]
  },
  {
   "cell_type": "code",
   "execution_count": 78,
   "metadata": {},
   "outputs": [
    {
     "data": {
      "text/html": [
       "<style>#sk-container-id-10 {color: black;background-color: white;}#sk-container-id-10 pre{padding: 0;}#sk-container-id-10 div.sk-toggleable {background-color: white;}#sk-container-id-10 label.sk-toggleable__label {cursor: pointer;display: block;width: 100%;margin-bottom: 0;padding: 0.3em;box-sizing: border-box;text-align: center;}#sk-container-id-10 label.sk-toggleable__label-arrow:before {content: \"▸\";float: left;margin-right: 0.25em;color: #696969;}#sk-container-id-10 label.sk-toggleable__label-arrow:hover:before {color: black;}#sk-container-id-10 div.sk-estimator:hover label.sk-toggleable__label-arrow:before {color: black;}#sk-container-id-10 div.sk-toggleable__content {max-height: 0;max-width: 0;overflow: hidden;text-align: left;background-color: #f0f8ff;}#sk-container-id-10 div.sk-toggleable__content pre {margin: 0.2em;color: black;border-radius: 0.25em;background-color: #f0f8ff;}#sk-container-id-10 input.sk-toggleable__control:checked~div.sk-toggleable__content {max-height: 200px;max-width: 100%;overflow: auto;}#sk-container-id-10 input.sk-toggleable__control:checked~label.sk-toggleable__label-arrow:before {content: \"▾\";}#sk-container-id-10 div.sk-estimator input.sk-toggleable__control:checked~label.sk-toggleable__label {background-color: #d4ebff;}#sk-container-id-10 div.sk-label input.sk-toggleable__control:checked~label.sk-toggleable__label {background-color: #d4ebff;}#sk-container-id-10 input.sk-hidden--visually {border: 0;clip: rect(1px 1px 1px 1px);clip: rect(1px, 1px, 1px, 1px);height: 1px;margin: -1px;overflow: hidden;padding: 0;position: absolute;width: 1px;}#sk-container-id-10 div.sk-estimator {font-family: monospace;background-color: #f0f8ff;border: 1px dotted black;border-radius: 0.25em;box-sizing: border-box;margin-bottom: 0.5em;}#sk-container-id-10 div.sk-estimator:hover {background-color: #d4ebff;}#sk-container-id-10 div.sk-parallel-item::after {content: \"\";width: 100%;border-bottom: 1px solid gray;flex-grow: 1;}#sk-container-id-10 div.sk-label:hover label.sk-toggleable__label {background-color: #d4ebff;}#sk-container-id-10 div.sk-serial::before {content: \"\";position: absolute;border-left: 1px solid gray;box-sizing: border-box;top: 0;bottom: 0;left: 50%;z-index: 0;}#sk-container-id-10 div.sk-serial {display: flex;flex-direction: column;align-items: center;background-color: white;padding-right: 0.2em;padding-left: 0.2em;position: relative;}#sk-container-id-10 div.sk-item {position: relative;z-index: 1;}#sk-container-id-10 div.sk-parallel {display: flex;align-items: stretch;justify-content: center;background-color: white;position: relative;}#sk-container-id-10 div.sk-item::before, #sk-container-id-10 div.sk-parallel-item::before {content: \"\";position: absolute;border-left: 1px solid gray;box-sizing: border-box;top: 0;bottom: 0;left: 50%;z-index: -1;}#sk-container-id-10 div.sk-parallel-item {display: flex;flex-direction: column;z-index: 1;position: relative;background-color: white;}#sk-container-id-10 div.sk-parallel-item:first-child::after {align-self: flex-end;width: 50%;}#sk-container-id-10 div.sk-parallel-item:last-child::after {align-self: flex-start;width: 50%;}#sk-container-id-10 div.sk-parallel-item:only-child::after {width: 0;}#sk-container-id-10 div.sk-dashed-wrapped {border: 1px dashed gray;margin: 0 0.4em 0.5em 0.4em;box-sizing: border-box;padding-bottom: 0.4em;background-color: white;}#sk-container-id-10 div.sk-label label {font-family: monospace;font-weight: bold;display: inline-block;line-height: 1.2em;}#sk-container-id-10 div.sk-label-container {text-align: center;}#sk-container-id-10 div.sk-container {/* jupyter's `normalize.less` sets `[hidden] { display: none; }` but bootstrap.min.css set `[hidden] { display: none !important; }` so we also need the `!important` here to be able to override the default hidden behavior on the sphinx rendered scikit-learn.org. See: https://github.com/scikit-learn/scikit-learn/issues/21755 */display: inline-block !important;position: relative;}#sk-container-id-10 div.sk-text-repr-fallback {display: none;}</style><div id=\"sk-container-id-10\" class=\"sk-top-container\"><div class=\"sk-text-repr-fallback\"><pre>LinearRegression()</pre><b>In a Jupyter environment, please rerun this cell to show the HTML representation or trust the notebook. <br />On GitHub, the HTML representation is unable to render, please try loading this page with nbviewer.org.</b></div><div class=\"sk-container\" hidden><div class=\"sk-item\"><div class=\"sk-estimator sk-toggleable\"><input class=\"sk-toggleable__control sk-hidden--visually\" id=\"sk-estimator-id-10\" type=\"checkbox\" checked><label for=\"sk-estimator-id-10\" class=\"sk-toggleable__label sk-toggleable__label-arrow\">LinearRegression</label><div class=\"sk-toggleable__content\"><pre>LinearRegression()</pre></div></div></div></div></div>"
      ],
      "text/plain": [
       "LinearRegression()"
      ]
     },
     "execution_count": 78,
     "metadata": {},
     "output_type": "execute_result"
    }
   ],
   "source": [
    "# Reshaping and extracting the variables to BMI\n",
    "\n",
    "X_train_BMI = np.array(X_train[\"bmi\"]).reshape(-1, 1)\n",
    "X_test_BMI = np.array(X_test[\"bmi\"]).reshape(-1, 1)\n",
    "X_val_BMI = np.array(x_val[\"bmi\"]).reshape(-1, 1)\n",
    "\n",
    "# Training the models by polynomial regression with 2nd degree\n",
    "ply_regression = PolynomialFeatures(degree=2, include_bias=False)\n",
    "\n",
    "X_train_ply_regression = ply_regression.fit_transform(X_train_BMI)\n",
    "X_test_ply_regression = ply_regression.fit_transform(X_test_BMI)\n",
    "X_val_ply_regression = ply_regression.fit_transform(X_val_BMI)\n",
    "\n",
    "polynomial_reression = LinearRegression()\n",
    "polynomial_reression.fit(X_train_ply_regression, Y_train)\n"
   ]
  },
  {
   "cell_type": "code",
   "execution_count": 79,
   "metadata": {},
   "outputs": [
    {
     "name": "stdout",
     "output_type": "stream",
     "text": [
      "Coefficients:  [939.50489618 248.87395634]\n",
      "Intercept:  151.58063663264556\n"
     ]
    }
   ],
   "source": [
    "# Predicting the target values\n",
    "predict_2 = polynomial_reression.predict(X_test_ply_regression)\n",
    "\n",
    "# Printing thr Coefficients and Intercept\n",
    "print('Coefficients: ', polynomial_reression.coef_)\n",
    "print('Intercept: ', polynomial_reression.intercept_)"
   ]
  },
  {
   "cell_type": "markdown",
   "metadata": {},
   "source": [
    "* 4. Run a multivariate polynomial regression of the 2nd degree on all variables (Hint: set include_bias=False in PolynomialFeatures) "
   ]
  },
  {
   "cell_type": "code",
   "execution_count": 80,
   "metadata": {},
   "outputs": [
    {
     "data": {
      "text/html": [
       "<style>#sk-container-id-11 {color: black;background-color: white;}#sk-container-id-11 pre{padding: 0;}#sk-container-id-11 div.sk-toggleable {background-color: white;}#sk-container-id-11 label.sk-toggleable__label {cursor: pointer;display: block;width: 100%;margin-bottom: 0;padding: 0.3em;box-sizing: border-box;text-align: center;}#sk-container-id-11 label.sk-toggleable__label-arrow:before {content: \"▸\";float: left;margin-right: 0.25em;color: #696969;}#sk-container-id-11 label.sk-toggleable__label-arrow:hover:before {color: black;}#sk-container-id-11 div.sk-estimator:hover label.sk-toggleable__label-arrow:before {color: black;}#sk-container-id-11 div.sk-toggleable__content {max-height: 0;max-width: 0;overflow: hidden;text-align: left;background-color: #f0f8ff;}#sk-container-id-11 div.sk-toggleable__content pre {margin: 0.2em;color: black;border-radius: 0.25em;background-color: #f0f8ff;}#sk-container-id-11 input.sk-toggleable__control:checked~div.sk-toggleable__content {max-height: 200px;max-width: 100%;overflow: auto;}#sk-container-id-11 input.sk-toggleable__control:checked~label.sk-toggleable__label-arrow:before {content: \"▾\";}#sk-container-id-11 div.sk-estimator input.sk-toggleable__control:checked~label.sk-toggleable__label {background-color: #d4ebff;}#sk-container-id-11 div.sk-label input.sk-toggleable__control:checked~label.sk-toggleable__label {background-color: #d4ebff;}#sk-container-id-11 input.sk-hidden--visually {border: 0;clip: rect(1px 1px 1px 1px);clip: rect(1px, 1px, 1px, 1px);height: 1px;margin: -1px;overflow: hidden;padding: 0;position: absolute;width: 1px;}#sk-container-id-11 div.sk-estimator {font-family: monospace;background-color: #f0f8ff;border: 1px dotted black;border-radius: 0.25em;box-sizing: border-box;margin-bottom: 0.5em;}#sk-container-id-11 div.sk-estimator:hover {background-color: #d4ebff;}#sk-container-id-11 div.sk-parallel-item::after {content: \"\";width: 100%;border-bottom: 1px solid gray;flex-grow: 1;}#sk-container-id-11 div.sk-label:hover label.sk-toggleable__label {background-color: #d4ebff;}#sk-container-id-11 div.sk-serial::before {content: \"\";position: absolute;border-left: 1px solid gray;box-sizing: border-box;top: 0;bottom: 0;left: 50%;z-index: 0;}#sk-container-id-11 div.sk-serial {display: flex;flex-direction: column;align-items: center;background-color: white;padding-right: 0.2em;padding-left: 0.2em;position: relative;}#sk-container-id-11 div.sk-item {position: relative;z-index: 1;}#sk-container-id-11 div.sk-parallel {display: flex;align-items: stretch;justify-content: center;background-color: white;position: relative;}#sk-container-id-11 div.sk-item::before, #sk-container-id-11 div.sk-parallel-item::before {content: \"\";position: absolute;border-left: 1px solid gray;box-sizing: border-box;top: 0;bottom: 0;left: 50%;z-index: -1;}#sk-container-id-11 div.sk-parallel-item {display: flex;flex-direction: column;z-index: 1;position: relative;background-color: white;}#sk-container-id-11 div.sk-parallel-item:first-child::after {align-self: flex-end;width: 50%;}#sk-container-id-11 div.sk-parallel-item:last-child::after {align-self: flex-start;width: 50%;}#sk-container-id-11 div.sk-parallel-item:only-child::after {width: 0;}#sk-container-id-11 div.sk-dashed-wrapped {border: 1px dashed gray;margin: 0 0.4em 0.5em 0.4em;box-sizing: border-box;padding-bottom: 0.4em;background-color: white;}#sk-container-id-11 div.sk-label label {font-family: monospace;font-weight: bold;display: inline-block;line-height: 1.2em;}#sk-container-id-11 div.sk-label-container {text-align: center;}#sk-container-id-11 div.sk-container {/* jupyter's `normalize.less` sets `[hidden] { display: none; }` but bootstrap.min.css set `[hidden] { display: none !important; }` so we also need the `!important` here to be able to override the default hidden behavior on the sphinx rendered scikit-learn.org. See: https://github.com/scikit-learn/scikit-learn/issues/21755 */display: inline-block !important;position: relative;}#sk-container-id-11 div.sk-text-repr-fallback {display: none;}</style><div id=\"sk-container-id-11\" class=\"sk-top-container\"><div class=\"sk-text-repr-fallback\"><pre>LinearRegression()</pre><b>In a Jupyter environment, please rerun this cell to show the HTML representation or trust the notebook. <br />On GitHub, the HTML representation is unable to render, please try loading this page with nbviewer.org.</b></div><div class=\"sk-container\" hidden><div class=\"sk-item\"><div class=\"sk-estimator sk-toggleable\"><input class=\"sk-toggleable__control sk-hidden--visually\" id=\"sk-estimator-id-11\" type=\"checkbox\" checked><label for=\"sk-estimator-id-11\" class=\"sk-toggleable__label sk-toggleable__label-arrow\">LinearRegression</label><div class=\"sk-toggleable__content\"><pre>LinearRegression()</pre></div></div></div></div></div>"
      ],
      "text/plain": [
       "LinearRegression()"
      ]
     },
     "execution_count": 80,
     "metadata": {},
     "output_type": "execute_result"
    }
   ],
   "source": [
    "# Training the models by multivariate polynomial regression with 2nd degree\n",
    "Multivariate_ply_regression = PolynomialFeatures(degree=2, include_bias=False)\n",
    "\n",
    "X_train_Mlt_ply_regression = Multivariate_ply_regression.fit_transform(X_train)\n",
    "X_test_Mlt_ply_regression = Multivariate_ply_regression.fit_transform(X_test)\n",
    "X_val_Mlt_ply_regression = Multivariate_ply_regression.fit_transform(x_val)\n",
    "\n",
    "\n",
    "Mlt_ply_regression = LinearRegression()\n",
    "Mlt_ply_regression.fit(X_train_Mlt_ply_regression, Y_train)"
   ]
  },
  {
   "cell_type": "code",
   "execution_count": 81,
   "metadata": {},
   "outputs": [
    {
     "name": "stdout",
     "output_type": "stream",
     "text": [
      "Coefficients:  [ 6.25235497e+00 -2.73674376e+02  4.06894814e+02  3.63490828e+02\n",
      " -6.84752957e+03  5.78567630e+03  2.46736103e+03  1.16557104e+02\n",
      "  3.01458546e+03  1.07778042e+02  1.76125281e+03  4.51789881e+03\n",
      "  4.90248165e+02 -2.33541087e+03 -5.70312468e+03 -3.95254147e+02\n",
      "  6.93044767e+03  7.59697758e+03  4.07445060e+01  1.42746436e+03\n",
      " -1.65257782e+00  1.36528560e+03  1.60080421e+03  2.35762549e+04\n",
      " -2.23734165e+04 -4.48577422e+03  3.44082331e+03 -1.04018284e+04\n",
      "  2.01338315e+03  1.45056734e+03  1.13374742e+03  1.12775812e+04\n",
      " -7.66671946e+03 -7.93065273e+03 -9.03968781e+03 -2.68461226e+03\n",
      "  3.37158708e+03  1.14672217e+03  8.66576524e+03 -5.43280465e+03\n",
      " -3.41242958e+03 -2.78807927e+03  5.80298276e+02 -3.49894331e+03\n",
      "  1.36475766e+05 -1.99143780e+05 -1.22561333e+05 -3.94376542e+04\n",
      " -1.09690526e+05 -1.76081800e+04  7.46015781e+04  9.12039342e+04\n",
      "  2.08758171e+04  8.44436838e+04  1.41841897e+04  2.61390743e+04\n",
      "  1.56981948e+04  5.00449099e+04  1.04905548e+04  7.19463338e+03\n",
      "  1.53153663e+04  6.61292525e+03  3.11374439e+04  5.15302128e+03\n",
      "  1.20213099e+02]\n",
      "Intercept:  108.04711964021004\n"
     ]
    }
   ],
   "source": [
    "# Predicting the target value\n",
    "predict_3 = Mlt_ply_regression.predict(X_test_Mlt_ply_regression)\n",
    "\n",
    "# Printing thr Coefficients and Intercept\n",
    "print('Coefficients: ', Mlt_ply_regression.coef_)\n",
    "print('Intercept: ', Mlt_ply_regression.intercept_)"
   ]
  },
  {
   "cell_type": "markdown",
   "metadata": {},
   "source": [
    "* 5. Compare the three models by looking at R-squared, MAPE and MAE. Explain what the values mean for a non-expert and add your insight about the values of each model. Note: You can add any further comparisons and code (this is not necessary for a perfect score, but will be reviewed and evaluated)"
   ]
  },
  {
   "cell_type": "code",
   "execution_count": 96,
   "metadata": {},
   "outputs": [
    {
     "name": "stdout",
     "output_type": "stream",
     "text": [
      "Multi Linear Regression\n",
      "MAPE: 35.91%\n",
      "MAE: 45.17\n",
      "Performance 42.63% \n",
      "\n",
      "Polynomial Regession model on BMI\n",
      "MAPE: 42.98%\n",
      "MAE: 49.42\n",
      "Performance 29.76% \n",
      "\n",
      "Polynomial Regession model on All data\n",
      "MAPE: 35.46%\n",
      "MAE: 48.01\n",
      "Performance 34.80% \n"
     ]
    }
   ],
   "source": [
    "# Creating a function for Comparing all the models\n",
    "def Models_Comp(y_t,y_pre):\n",
    "    print(f'MAPE: {(mean_absolute_percentage_error(y_t, y_pre)*100):.2f}%')\n",
    "    print(f'MAE: {mean_absolute_error(y_t, y_pre):.2f}')\n",
    "    print(f'Performance {r2_score(y_t,y_pre)*100:.2f}% ')\n",
    "\n",
    "# Comparing the data on training models\n",
    "print('Multi Linear Regression')\n",
    "Models_Comp(Y_test,predict_1)\n",
    "\n",
    "print('\\nPolynomial Regession model on BMI')\n",
    "Models_Comp(Y_test,predict_2)\n",
    "\n",
    "print('\\nPolynomial Regession model on All data')\n",
    "Models_Comp(Y_test,predict_3)\n"
   ]
  },
  {
   "cell_type": "code",
   "execution_count": 105,
   "metadata": {},
   "outputs": [
    {
     "name": "stdout",
     "output_type": "stream",
     "text": [
      "Multi Linear Regression\n",
      "MAPE: 39.14%\n",
      "MAE: 43.95\n",
      "Performance 52.73% \n",
      "\n",
      "Polynomial Regession model on BMI\n",
      "MAPE: 42.98%\n",
      "MAE: 49.42\n",
      "Performance 29.76% \n",
      "\n",
      "Polynomial Regession model on All data\n",
      "MAPE: 35.46%\n",
      "MAE: 48.01\n",
      "Performance 34.80% \n"
     ]
    }
   ],
   "source": [
    "# Comparing the data on testing models\n",
    "print('Multi Linear Regression')\n",
    "Linear_Regression_test = Linear_Regression.predict(X_train)\n",
    "Models_Comp(Y_train,Linear_Regression_test)\n",
    "\n",
    "polynomial_reression_test = polynomial_reression.predict(X_test_ply_regression)\n",
    "print('\\nPolynomial Regession model on BMI')\n",
    "Models_Comp(Y_test,polynomial_reression_test)\n",
    "\n",
    "Mlt_ply_regression_test = Mlt_ply_regression.predict(X_test_Mlt_ply_regression)\n",
    "print('\\nPolynomial Regession model on All data')\n",
    "Models_Comp(Y_test,Mlt_ply_regression_test)"
   ]
  },
  {
   "cell_type": "code",
   "execution_count": 106,
   "metadata": {},
   "outputs": [
    {
     "name": "stdout",
     "output_type": "stream",
     "text": [
      "Multi Linear Regression\n",
      "MAPE: 40.27%\n",
      "MAE: 40.16\n",
      "Performance 51.70% \n",
      "\n",
      "Polynomial Regession model on BMI\n",
      "MAPE: 46.83%\n",
      "MAE: 45.19\n",
      "Performance 44.06% \n",
      "\n",
      "Polynomial Regession model on All data\n",
      "MAPE: 40.80%\n",
      "MAE: 41.19\n",
      "Performance 49.70% \n"
     ]
    }
   ],
   "source": [
    "# Comparing the data on validating models\n",
    "print('Multi Linear Regression')\n",
    "Linear_Regression_test = Linear_Regression.predict(x_val)\n",
    "Models_Comp(y_val,Linear_Regression_test)\n",
    "\n",
    "polynomial_reression_test = polynomial_reression.predict(X_val_ply_regression)\n",
    "print('\\nPolynomial Regession model on BMI')\n",
    "Models_Comp(y_val,polynomial_reression_test)\n",
    "\n",
    "Mlt_ply_regression_test = Mlt_ply_regression.predict(X_val_Mlt_ply_regression)\n",
    "print('\\nPolynomial Regession model on All data')\n",
    "Models_Comp(y_val,Mlt_ply_regression_test)"
   ]
  },
  {
   "cell_type": "markdown",
   "metadata": {},
   "source": [
    "* From the above comparison of all the models `Multi Linear Regression` performance is better than other models."
   ]
  },
  {
   "cell_type": "markdown",
   "metadata": {},
   "source": [
    "- 6. Please answer the following questions\n",
    "    -  How many parameters are we fitting for each of the three models? Explain these values. Hint: for explaining the parameters of the polynomial regression, you can use poly.get_feature_names_out()\n",
    "\n",
    "    - 1. Multivariate linear regression: \n",
    "        -  **11** parameters, which inlcudes **Number of Features(10)** + **Intercept Term(1)** "
   ]
  },
  {
   "cell_type": "code",
   "execution_count": 107,
   "metadata": {},
   "outputs": [
    {
     "data": {
      "text/plain": [
       "11"
      ]
     },
     "execution_count": 107,
     "metadata": {},
     "output_type": "execute_result"
    }
   ],
   "source": [
    "len(Linear_Regression.coef_) + 1"
   ]
  },
  {
   "cell_type": "markdown",
   "metadata": {},
   "source": [
    "* Polynomial Regression of 2nd Degree on BMI:\n",
    "    * **3** parameters, which includes **Number of Features(2)** + **Intercept Term(1)**"
   ]
  },
  {
   "cell_type": "code",
   "execution_count": 108,
   "metadata": {},
   "outputs": [
    {
     "data": {
      "text/plain": [
       "3"
      ]
     },
     "execution_count": 108,
     "metadata": {},
     "output_type": "execute_result"
    }
   ],
   "source": [
    "len(polynomial_reression.coef_) + 1"
   ]
  },
  {
   "cell_type": "markdown",
   "metadata": {},
   "source": [
    "* Multivariate Polynomial Regression of the 2nd degree on all variables:\n",
    "    * **66** parameters, which includes **Number of Features(65)** + **Intercept Term(1)**"
   ]
  },
  {
   "cell_type": "code",
   "execution_count": 109,
   "metadata": {},
   "outputs": [
    {
     "data": {
      "text/plain": [
       "66"
      ]
     },
     "execution_count": 109,
     "metadata": {},
     "output_type": "execute_result"
    }
   ],
   "source": [
    "len(Mlt_ply_regression.coef_) + 1"
   ]
  },
  {
   "cell_type": "markdown",
   "metadata": {},
   "source": [
    "* 2. Which model would you choose for deployment, and why?\n",
    "    *   Well, I will go for **Multivariate Linear Regression Model** because it has the lowest MAE with `43.95`, which shows that it has the accurate mean.\n",
    "    *   It also has the highest performance rate with `52.73`.\n",
    "    *   So, I will choose Multivariate Linear Regression Model because of the high performance rate and with low mean absolute error."
   ]
  }
 ],
 "metadata": {
  "kernelspec": {
   "display_name": "CSCN8010_classic_ml",
   "language": "python",
   "name": "cscn8010_classic_ml"
  },
  "language_info": {
   "codemirror_mode": {
    "name": "ipython",
    "version": 3
   },
   "file_extension": ".py",
   "mimetype": "text/x-python",
   "name": "python",
   "nbconvert_exporter": "python",
   "pygments_lexer": "ipython3",
   "version": "3.11.4"
  }
 },
 "nbformat": 4,
 "nbformat_minor": 2
}
