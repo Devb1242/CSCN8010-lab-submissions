{
 "cells": [
  {
   "cell_type": "markdown",
   "metadata": {},
   "source": [
    "### <center><font color='Blue'>Dev Bharatbhai Patel(8938546)</font></center>\n",
    "### <center><font color='Blue'>Lab-5</font></center>"
   ]
  },
  {
   "cell_type": "markdown",
   "metadata": {},
   "source": [
    "* #### Perform cross-validation on nine polynomial models, ranging from degree 0 to 8."
   ]
  },
  {
   "cell_type": "code",
   "execution_count": 9,
   "metadata": {},
   "outputs": [],
   "source": [
    "# importing necessary packages\n",
    "\n",
    "import numpy as np\n",
    "import pandas as pd\n",
    "from sklearn import datasets\n",
    "from sklearn.linear_model import LinearRegression\n",
    "from sklearn.preprocessing import PolynomialFeatures\n",
    "from sklearn.model_selection import cross_val_score, train_test_split\n",
    "from sklearn.metrics import mean_absolute_error,mean_absolute_percentage_error, r2_score, make_scorer\n"
   ]
  },
  {
   "cell_type": "code",
   "execution_count": 7,
   "metadata": {},
   "outputs": [],
   "source": [
    "# Loading Diabetes datasets \n",
    "diabetes_X, diabetes_Y = datasets.load_diabetes(as_frame=True, return_X_y=True, scaled=True)\n",
    "\n",
    "# Splitting the data\n",
    "X_train, X_test, Y_train, Y_test = train_test_split(diabetes_X, diabetes_Y, test_size=0.2, random_state=10)"
   ]
  },
  {
   "cell_type": "code",
   "execution_count": 45,
   "metadata": {},
   "outputs": [
    {
     "data": {
      "text/html": [
       "<div>\n",
       "<style scoped>\n",
       "    .dataframe tbody tr th:only-of-type {\n",
       "        vertical-align: middle;\n",
       "    }\n",
       "\n",
       "    .dataframe tbody tr th {\n",
       "        vertical-align: top;\n",
       "    }\n",
       "\n",
       "    .dataframe thead th {\n",
       "        text-align: right;\n",
       "    }\n",
       "</style>\n",
       "<table border=\"1\" class=\"dataframe\">\n",
       "  <thead>\n",
       "    <tr style=\"text-align: right;\">\n",
       "      <th></th>\n",
       "      <th>Polynomial Degree</th>\n",
       "      <th>MAE Mean</th>\n",
       "      <th>MAE STD</th>\n",
       "      <th>MAPE Mean</th>\n",
       "      <th>MAPE STD</th>\n",
       "      <th>R2 Mean</th>\n",
       "      <th>R2 STD</th>\n",
       "    </tr>\n",
       "  </thead>\n",
       "  <tbody>\n",
       "    <tr>\n",
       "      <th>0</th>\n",
       "      <td>0</td>\n",
       "      <td>65.492230</td>\n",
       "      <td>3.724537</td>\n",
       "      <td>0.606161</td>\n",
       "      <td>0.052957</td>\n",
       "      <td>-0.006690</td>\n",
       "      <td>0.007997</td>\n",
       "    </tr>\n",
       "    <tr>\n",
       "      <th>1</th>\n",
       "      <td>1</td>\n",
       "      <td>45.140263</td>\n",
       "      <td>4.113680</td>\n",
       "      <td>0.397591</td>\n",
       "      <td>0.048210</td>\n",
       "      <td>0.471074</td>\n",
       "      <td>0.080458</td>\n",
       "    </tr>\n",
       "    <tr>\n",
       "      <th>2</th>\n",
       "      <td>2</td>\n",
       "      <td>73.762339</td>\n",
       "      <td>32.946726</td>\n",
       "      <td>0.624793</td>\n",
       "      <td>0.284384</td>\n",
       "      <td>-1.026422</td>\n",
       "      <td>2.002314</td>\n",
       "    </tr>\n",
       "    <tr>\n",
       "      <th>3</th>\n",
       "      <td>3</td>\n",
       "      <td>916.474119</td>\n",
       "      <td>205.212110</td>\n",
       "      <td>6.946030</td>\n",
       "      <td>1.348476</td>\n",
       "      <td>-841.500624</td>\n",
       "      <td>412.875833</td>\n",
       "    </tr>\n",
       "    <tr>\n",
       "      <th>4</th>\n",
       "      <td>4</td>\n",
       "      <td>252.526777</td>\n",
       "      <td>39.352687</td>\n",
       "      <td>2.201523</td>\n",
       "      <td>0.223416</td>\n",
       "      <td>-42.531031</td>\n",
       "      <td>36.791272</td>\n",
       "    </tr>\n",
       "    <tr>\n",
       "      <th>5</th>\n",
       "      <td>5</td>\n",
       "      <td>248.458259</td>\n",
       "      <td>38.689586</td>\n",
       "      <td>2.160008</td>\n",
       "      <td>0.213119</td>\n",
       "      <td>-39.976763</td>\n",
       "      <td>33.256063</td>\n",
       "    </tr>\n",
       "    <tr>\n",
       "      <th>6</th>\n",
       "      <td>6</td>\n",
       "      <td>248.436496</td>\n",
       "      <td>38.697499</td>\n",
       "      <td>2.159755</td>\n",
       "      <td>0.213164</td>\n",
       "      <td>-39.970074</td>\n",
       "      <td>33.253048</td>\n",
       "    </tr>\n",
       "    <tr>\n",
       "      <th>7</th>\n",
       "      <td>7</td>\n",
       "      <td>248.435572</td>\n",
       "      <td>38.696817</td>\n",
       "      <td>2.159741</td>\n",
       "      <td>0.213154</td>\n",
       "      <td>-39.968247</td>\n",
       "      <td>33.249734</td>\n",
       "    </tr>\n",
       "    <tr>\n",
       "      <th>8</th>\n",
       "      <td>8</td>\n",
       "      <td>248.457224</td>\n",
       "      <td>38.747085</td>\n",
       "      <td>2.160328</td>\n",
       "      <td>0.213356</td>\n",
       "      <td>-39.986847</td>\n",
       "      <td>33.223119</td>\n",
       "    </tr>\n",
       "  </tbody>\n",
       "</table>\n",
       "</div>"
      ],
      "text/plain": [
       "   Polynomial Degree    MAE Mean     MAE STD  MAPE Mean  MAPE STD     R2 Mean   \n",
       "0                  0   65.492230    3.724537   0.606161  0.052957   -0.006690  \\\n",
       "1                  1   45.140263    4.113680   0.397591  0.048210    0.471074   \n",
       "2                  2   73.762339   32.946726   0.624793  0.284384   -1.026422   \n",
       "3                  3  916.474119  205.212110   6.946030  1.348476 -841.500624   \n",
       "4                  4  252.526777   39.352687   2.201523  0.223416  -42.531031   \n",
       "5                  5  248.458259   38.689586   2.160008  0.213119  -39.976763   \n",
       "6                  6  248.436496   38.697499   2.159755  0.213164  -39.970074   \n",
       "7                  7  248.435572   38.696817   2.159741  0.213154  -39.968247   \n",
       "8                  8  248.457224   38.747085   2.160328  0.213356  -39.986847   \n",
       "\n",
       "       R2 STD  \n",
       "0    0.007997  \n",
       "1    0.080458  \n",
       "2    2.002314  \n",
       "3  412.875833  \n",
       "4   36.791272  \n",
       "5   33.256063  \n",
       "6   33.253048  \n",
       "7   33.249734  \n",
       "8   33.223119  "
      ]
     },
     "metadata": {},
     "output_type": "display_data"
    }
   ],
   "source": [
    "# Creating a for loop for degree 0 to 9\n",
    "Cross_Validation = []\n",
    "\n",
    "for i in range(0,9):\n",
    "\n",
    "    # Creating polynomial feature\n",
    "    Polynomial = PolynomialFeatures(degree=i)\n",
    "    X_train_ply = Polynomial.fit_transform(X_train)\n",
    "    Linear_Regression = LinearRegression()\n",
    "\n",
    "    # Performing cross-validation using cross_val_score()to get the MAE, MAPE and R-squared scores.\n",
    "    MAE_cross_validation = cross_val_score(Linear_Regression, X_train_ply, Y_train, cv=5, scoring=make_scorer(mean_absolute_error))\n",
    "    MAPE_cross_validation = cross_val_score(Linear_Regression, X_train_ply, Y_train, cv=5, scoring=make_scorer(mean_absolute_percentage_error))\n",
    "    R2_cross_validation = cross_val_score(Linear_Regression, X_train_ply, Y_train, cv=5, scoring=make_scorer(r2_score))\n",
    "\n",
    "    # Calculating the mean and standard Deviation score using np.mean() and np.std()\n",
    "    MAE_Mean = np.mean(MAE_cross_validation)\n",
    "    MAE_STD = np.std(MAE_cross_validation)\n",
    "\n",
    "    MAPE_Mean = np.mean(MAPE_cross_validation)\n",
    "    MAPE_STD = np.std(MAPE_cross_validation)\n",
    "\n",
    "    R2_Mean = np.mean(R2_cross_validation)\n",
    "    R2_STD = np.std(R2_cross_validation)\n",
    "\n",
    "    Cross_Validation.append([i, MAE_Mean, MAE_STD, MAPE_Mean, MAPE_STD, R2_Mean, R2_STD])\n",
    "\n",
    "# Creating a DataFrame to store the result\n",
    "table = pd.DataFrame(Cross_Validation, columns=['Polynomial Degree', 'MAE Mean', 'MAE STD', 'MAPE Mean', 'MAPE STD', 'R2 Mean', 'R2 STD'])\n",
    "\n",
    "# Printing the table \n",
    "display(table)\n",
    "    "
   ]
  },
  {
   "cell_type": "markdown",
   "metadata": {},
   "source": [
    "* #### Displaying the best Model"
   ]
  },
  {
   "cell_type": "code",
   "execution_count": 65,
   "metadata": {},
   "outputs": [
    {
     "name": "stdout",
     "output_type": "stream",
     "text": [
      "Best Model:  1\n"
     ]
    }
   ],
   "source": [
    "best_model = table.loc[(table['R2 Mean'] > 0) & (table['MAE Mean'] == table['MAE Mean'].min()) & (table['MAPE Mean'] == table['MAPE Mean'].min())]\n",
    "\n",
    "print(\"Best Model: \",best_model[\"Polynomial Degree\"].iloc[0])"
   ]
  },
  {
   "cell_type": "markdown",
   "metadata": {},
   "source": [
    "* #### Model Performance"
   ]
  },
  {
   "cell_type": "code",
   "execution_count": 69,
   "metadata": {},
   "outputs": [
    {
     "name": "stdout",
     "output_type": "stream",
     "text": [
      "MAE : 45.14026312778687\n",
      "MAPE : 0.39759064254512744\n",
      "R2 : 0.4710740506344152\n"
     ]
    }
   ],
   "source": [
    "print(\"MAE :\", best_model[\"MAE Mean\"].values[0])\n",
    "print(\"MAPE :\",best_model[\"MAPE Mean\"].values[0])\n",
    "print(\"R2 :\",best_model[\"R2 Mean\"].values[0])"
   ]
  },
  {
   "cell_type": "markdown",
   "metadata": {},
   "source": [
    "* #####  Well, from the above result we can see that the best model in terms of all i.e MAP, MAPE and R2 is Polynominal Degree 1.\n",
    "* ##### It has the lowest MAE, lowest MAPE and highest R2 score.\n",
    "* ##### The Polynominal degree 1 represents a consistant value and it seems there is  no relationship between input features and the target variable.\n",
    "* ##### The could also be using in the real world for making predictions.\n"
   ]
  }
 ],
 "metadata": {
  "kernelspec": {
   "display_name": "CSCN8010_classic_ml",
   "language": "python",
   "name": "cscn8010_classic_ml"
  },
  "language_info": {
   "codemirror_mode": {
    "name": "ipython",
    "version": 3
   },
   "file_extension": ".py",
   "mimetype": "text/x-python",
   "name": "python",
   "nbconvert_exporter": "python",
   "pygments_lexer": "ipython3",
   "version": "3.11.4"
  }
 },
 "nbformat": 4,
 "nbformat_minor": 2
}
