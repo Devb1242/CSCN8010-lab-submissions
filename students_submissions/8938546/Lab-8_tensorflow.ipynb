{
 "cells": [
  {
   "cell_type": "markdown",
   "metadata": {},
   "source": [
    "### <center><font color='blue'>Dev Bharatbhai Patel (8938546)</font></center>\n",
    "### <center><font color='blue'>Lab-8 Tensorflow</font></center>"
   ]
  },
  {
   "cell_type": "markdown",
   "metadata": {},
   "source": [
    "* Calculate the dot product between the same vectors as above (re-define them in Tensorflow)"
   ]
  },
  {
   "cell_type": "code",
   "execution_count": 2,
   "metadata": {},
   "outputs": [],
   "source": [
    "import tensorflow as tf"
   ]
  },
  {
   "cell_type": "code",
   "execution_count": 6,
   "metadata": {},
   "outputs": [
    {
     "name": "stdout",
     "output_type": "stream",
     "text": [
      "The Dot Product of A and B is: tf.Tensor(101, shape=(), dtype=int32)\n"
     ]
    }
   ],
   "source": [
    "A = tf.constant([-2,10,3])\n",
    "B = tf.constant([27,14,5])\n",
    "\n",
    "# Calculating the dot product by using tf.tensordot()\n",
    "dot_product = tf.tensordot(A,B, axes=1)\n",
    "\n",
    "print(\"The Dot Product of A and B is:\",dot_product)"
   ]
  },
  {
   "cell_type": "markdown",
   "metadata": {},
   "source": [
    "* Calculate the matrix multiplication of the same matrics as above (re-define them in Tensorflow)"
   ]
  },
  {
   "cell_type": "code",
   "execution_count": 7,
   "metadata": {},
   "outputs": [
    {
     "name": "stdout",
     "output_type": "stream",
     "text": [
      "The Matrix Multiplication of A and B is: tf.Tensor(\n",
      "[[-103 -156]\n",
      " [ 663  348]], shape=(2, 2), dtype=int32)\n"
     ]
    }
   ],
   "source": [
    "X = tf.constant([[-5,7],[21,9]])\n",
    "Y = tf.constant([[29,20],[6,-8]])\n",
    "\n",
    "# Calculating the matrix multiplication by using tf.matmul()\n",
    "matrix_multiplication = tf.matmul(X,Y)\n",
    "\n",
    "print(\"The Matrix Multiplication of A and B is:\", matrix_multiplication)"
   ]
  }
 ],
 "metadata": {
  "kernelspec": {
   "display_name": "tensorflow_cpu",
   "language": "python",
   "name": "python3"
  },
  "language_info": {
   "codemirror_mode": {
    "name": "ipython",
    "version": 3
   },
   "file_extension": ".py",
   "mimetype": "text/x-python",
   "name": "python",
   "nbconvert_exporter": "python",
   "pygments_lexer": "ipython3",
   "version": "3.11.4"
  }
 },
 "nbformat": 4,
 "nbformat_minor": 2
}
